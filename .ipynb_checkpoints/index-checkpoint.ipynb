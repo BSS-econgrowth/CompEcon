{
 "cells": [
  {
   "cell_type": "markdown",
   "metadata": {},
   "source": [
    "# Computational Economics"
   ]
  },
  {
   "cell_type": "markdown",
   "metadata": {},
   "source": [
    "## Binder startup notebook"
   ]
  },
  {
   "cell_type": "markdown",
   "metadata": {},
   "source": [
    "From here you can open the other notebooks in this repository.\n",
    "\n",
    "# Notebooks\n",
    "\n",
    "* Notebook 1: [Introduction](./notebooks/IntroPython.ipynb)\n",
    "* Notebook 2: [Dynamic Programming in Python](./notebooks/DynamicProgramming.ipynb)\n",
    "* Notebook 3: [Faster Dynamic Programming with Numba](\n",
    "./notebooks/Faster%20Computation%20with%20Numba.ipynb)\n",
    "* Notebook 4: [Economic Data Analysis](./notebooks/EconomicDataAnalysis.ipynb)\n",
    "* Notebook 5: [GIS with QGIS](./notebooks/GIS.ipynb)\n",
    "* Notebook 6: [GIS with Python (Geometries)](./notebooks/GIS%20with%20Python.ipynb)\n",
    "* Notebook 7: [GIS with Python 2 (Rasters)](./notebooks/GIS%20with%20Python%202.ipynb)\n",
    "* Notebook 8: [GIS with Python 3 (Data Munging)](./notebooks/GIS%20with%20Python%203.ipynb)\n",
    "* Notebook 9: [Stata Jupyter Notebooks (Stata kernel)](./notebooks/Stata%20Notebook%20Example.ipynb)\n",
    "* Notebook 10: [Stata in a Python Jupyter Notebook (ipystata)](/notebooks/Stata%20in%20a%20Python%20Notebook.ipynb)\n"
   ]
  },
  {
   "cell_type": "code",
   "execution_count": null,
   "metadata": {},
   "outputs": [],
   "source": []
  }
 ],
 "metadata": {
  "kernelspec": {
   "display_name": "Python 3",
   "language": "python",
   "name": "python3"
  },
  "language_info": {
   "codemirror_mode": {
    "name": "ipython",
    "version": 3
   },
   "file_extension": ".py",
   "mimetype": "text/x-python",
   "name": "python",
   "nbconvert_exporter": "python",
   "pygments_lexer": "ipython3",
   "version": "3.8.2"
  },
  "nbTranslate": {
   "displayLangs": [
    "*"
   ],
   "hotkey": "alt-t",
   "langInMainMenu": true,
   "sourceLang": "en",
   "targetLang": "fr",
   "useGoogleTranslate": true
  }
 },
 "nbformat": 4,
 "nbformat_minor": 4
}
